{
 "cells": [
  {
   "cell_type": "markdown",
   "id": "19817f9b-f493-4590-b2e2-fab58f505616",
   "metadata": {},
   "source": [
    "Q.1 - what is multithreading in python? why is it used?Name the module used to handle threads in python."
   ]
  },
  {
   "cell_type": "markdown",
   "id": "3f28e652-eccc-4779-8f3a-38d39fc9c747",
   "metadata": {},
   "source": [
    "Multithreading is defined as the ability of a processor to execute multiple threads concurrently. In a simple, single-core CPU, it is achieved using frequent switching between threads.\n",
    "It's uses---\n",
    "Multithreading in Python allows the concurrent and parallel occurrence of various tasks. It causes a reduction in time consumption or response time, thereby increasing the performance."
   ]
  },
  {
   "cell_type": "markdown",
   "id": "59b9fd37-3cc4-4928-8eff-4e020f57f4e3",
   "metadata": {},
   "source": [
    "Threading Modules. The threading module is a high-level implementation of multithreading used to deploy an application in Python. To use multithreading, we need to import the threading module in Python Program."
   ]
  },
  {
   "cell_type": "markdown",
   "id": "ddbdf6b3-efdd-4c43-b084-bc7429e89717",
   "metadata": {},
   "source": [
    "Q.2 -why threading module used?"
   ]
  },
  {
   "cell_type": "markdown",
   "id": "ae780c22-8c6f-4485-b18e-977379635f88",
   "metadata": {},
   "source": [
    "Threading in python is used to run multiple threads (tasks, function calls) at the same time. Note that this does not mean that they are executed on different CPUs. "
   ]
  },
  {
   "cell_type": "markdown",
   "id": "d279537f-efc3-461b-b10f-da1fa619d002",
   "metadata": {},
   "source": [
    "Q.2 write the use of the following functions :\n",
    "1. activeCount()\n",
    "2. currectThread()\n",
    "3. enumerate()"
   ]
  },
  {
   "cell_type": "markdown",
   "id": "b0bbb76b-f3af-4063-a2a6-3e23a38310f7",
   "metadata": {},
   "source": [
    "1. threading.activeCount() − Returns the number of thread objects that are active.\n",
    "2. threading.currentThread() − Returns the number of thread objects in the caller's thread control.\n",
    "3. threading.enumerate() − Returns a list of all thread objects that are currently active."
   ]
  },
  {
   "cell_type": "markdown",
   "id": "dea9ed25-8be1-4741-99d6-161edd50430f",
   "metadata": {},
   "source": [
    "Q.3 Explain the following function:\n",
    "1. run()\n",
    "2. start()\n",
    "3. join()\n",
    "4. isAlive()"
   ]
  },
  {
   "cell_type": "markdown",
   "id": "9eaadbca-94d9-4b80-a5b9-cd1ed78b82a8",
   "metadata": {},
   "source": [
    "Answers\n",
    "1. run()  − The run() method is the entry point for a thread.\n",
    "2. start()  − The start() method starts a thread by calling the run method.\n",
    "3. join([time])  − The join() waits for threads to terminate.\n",
    "4. isAlive()  − The isAlive() method checks whether a thread is still executing."
   ]
  },
  {
   "cell_type": "markdown",
   "id": "581be308-57f8-4d44-bc25-cc8aee1ce4ef",
   "metadata": {},
   "source": [
    "Q.4 Write a python program to create two threads. Thread one must print the list of square and thread two must print the list of cubes."
   ]
  },
  {
   "cell_type": "code",
   "execution_count": 1,
   "id": "c42e9aa6-03b1-468e-8eac-deff99f5139a",
   "metadata": {},
   "outputs": [
    {
     "name": "stdout",
     "output_type": "stream",
     "text": [
      "1\n",
      "4\n",
      "9\n",
      "16\n",
      "25\n",
      "36\n",
      "49\n",
      "64\n",
      "81\n",
      "100\n",
      "1\n",
      "8\n",
      "27\n",
      "64\n",
      "125\n",
      "216\n",
      "343\n",
      "512\n",
      "729\n",
      "1000\n"
     ]
    }
   ],
   "source": [
    "import threading\n",
    "\n",
    "def print_squares():\n",
    "    squares = [x**2 for x in range(1, 11)]\n",
    "    for num in squares:\n",
    "        print(num)\n",
    "\n",
    "def print_cubes():\n",
    "    cubes = [x**3 for x in range(1, 11)]\n",
    "    for num in cubes:\n",
    "        print(num)\n",
    "\n",
    "# Create thread one for printing squares\n",
    "thread1 = threading.Thread(target=print_squares)\n",
    "\n",
    "# Create thread two for printing cubes\n",
    "thread2 = threading.Thread(target=print_cubes)\n",
    "\n",
    "# Start both threads\n",
    "thread1.start()\n",
    "thread2.start()\n",
    "\n",
    "# Wait for both threads to complete\n",
    "thread1.join()\n",
    "thread2.join()"
   ]
  },
  {
   "cell_type": "markdown",
   "id": "2725418d-53aa-4649-b369-d1f972cb0035",
   "metadata": {},
   "source": [
    "Q.5 State advantages and disadvantages of multithreading."
   ]
  },
  {
   "cell_type": "markdown",
   "id": "d47a85db-b7a4-4afe-93a6-caaa248c96ab",
   "metadata": {},
   "source": [
    "Answer-\n",
    "\n",
    "#Advantages of Multithreading\n",
    "1. Improved performance: Multithreading can help increase the overall performance\n",
    "2. Multithreading allows better utilization of system resources by keeping the CPU busy while        waiting for I/O operations or other tasks to complete.\n",
    "\n",
    "#Disadvantages of Multithreading\n",
    "1. Complex debugging and testing processes\n",
    "2. Overhead switching of context\n",
    "3. Increased potential for deadlock occurrence\n",
    "4. Increased difficulty level in writing a program\n",
    "5. Unpredictable results"
   ]
  },
  {
   "cell_type": "markdown",
   "id": "5cf036a0-07d5-47cb-801b-bdfc7c44875b",
   "metadata": {},
   "source": [
    "Q.5 Explain deadlocks and race conditions."
   ]
  },
  {
   "cell_type": "markdown",
   "id": "cdd785ef-2ab0-48d1-99e5-4a64a5b02963",
   "metadata": {},
   "source": [
    "Answer-\n",
    "A race condition means that our program's result might depend on the order of execution of the individual steps. This becomes essential in concurrent programs that can run multiple threads of execution simultaneously through context switching, and they access a shared resource like a variable.\n",
    "/n\n",
    "\n",
    "A deadlock is a concurrency failure mode where a thread or threads wait for a condition that never occurs. The result is that the deadlock threads are unable to progress and the program is stuck or frozen and must be terminated forcefully."
   ]
  }
 ],
 "metadata": {
  "kernelspec": {
   "display_name": "Python 3 (ipykernel)",
   "language": "python",
   "name": "python3"
  },
  "language_info": {
   "codemirror_mode": {
    "name": "ipython",
    "version": 3
   },
   "file_extension": ".py",
   "mimetype": "text/x-python",
   "name": "python",
   "nbconvert_exporter": "python",
   "pygments_lexer": "ipython3",
   "version": "3.10.8"
  }
 },
 "nbformat": 4,
 "nbformat_minor": 5
}
